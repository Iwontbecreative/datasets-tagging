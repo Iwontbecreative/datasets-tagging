{
 "cells": [
  {
   "cell_type": "code",
   "execution_count": 1,
   "metadata": {},
   "outputs": [
    {
     "data": {
      "text/plain": [
       "(429,\n",
       " ['/home/yjernite/Code/datasets/datasets/acronym_identification/README.md',\n",
       "  '/home/yjernite/Code/datasets/datasets/ade_corpus_v2/README.md',\n",
       "  '/home/yjernite/Code/datasets/datasets/afrikaans_ner_corpus/README.md'])"
      ]
     },
     "execution_count": 1,
     "metadata": {},
     "output_type": "execute_result"
    }
   ],
   "source": [
    "import json\n",
    "import os\n",
    "import yaml\n",
    "\n",
    "import datasets\n",
    "\n",
    "from glob import glob\n",
    "\n",
    "def get_yaml(fname):\n",
    "    with open(fname, encoding=\"utf-8\") as f:\n",
    "        readme_lines = f.readlines()\n",
    "    if '---\\n' in readme_lines[1:]:\n",
    "        return ''.join(readme_lines[1:readme_lines[1:].index('---\\n') + 1]).strip()\n",
    "    else:\n",
    "        return ''\n",
    "\n",
    "def get_dataset_confs(dataset_id):\n",
    "    module_path = datasets.load.prepare_module(dataset_id, dataset=True)\n",
    "    builder_cls = datasets.load.import_main_class(module_path[0], dataset=True)\n",
    "    build_confs = builder_cls.BUILDER_CONFIGS\n",
    "    confs = [conf.name for conf in build_confs] if len(build_confs) > 0 else ['default']\n",
    "    return confs\n",
    "\n",
    "def split_configs(tag_dict, name):\n",
    "    confs = []\n",
    "    for v in tag_dict.values():\n",
    "        if isinstance(v, dict):\n",
    "            confs = list(v.keys())\n",
    "    if len(confs) == 0:\n",
    "        return dict([\n",
    "            (conf, tag_dict)\n",
    "            for conf in get_dataset_confs(name)\n",
    "        ])\n",
    "    else:\n",
    "        return dict([\n",
    "            (k_conf, dict([\n",
    "                (k, v[k_conf] if isinstance(v, dict) else v)\n",
    "                for k, v in tag_dict.items()\n",
    "            ]))\n",
    "            for k_conf in confs\n",
    "        ])\n",
    "\n",
    "readme_files = sorted(glob(\"/home/yjernite/Code/datasets/datasets/*/README.md\"))\n",
    "len(readme_files), readme_files[:3]"
   ]
  },
  {
   "cell_type": "code",
   "execution_count": 2,
   "metadata": {
    "scrolled": true
   },
   "outputs": [
    {
     "name": "stderr",
     "output_type": "stream",
     "text": [
      "<ipython-input-2-f1dca04dce9f>:10: YAMLLoadWarning: calling yaml.load() without Loader=... is deprecated, as the default Loader is unsafe. Please read https://msg.pyyaml.org/load for full details.\n",
      "  split_configs(yaml.load(get_yaml(fname)),fname.split('/')[-2])\n",
      "<ipython-input-2-f1dca04dce9f>:10: YAMLLoadWarning: calling yaml.load() without Loader=... is deprecated, as the default Loader is unsafe. Please read https://msg.pyyaml.org/load for full details.\n",
      "  split_configs(yaml.load(get_yaml(fname)),fname.split('/')[-2])\n"
     ]
    },
    {
     "name": "stdout",
     "output_type": "stream",
     "text": [
      "/home/yjernite/Code/datasets/datasets/multi_woz/README.md\n",
      "/home/yjernite/Code/datasets/datasets/samsum/README.md\n"
     ]
    }
   ],
   "source": [
    "readme_tags = []\n",
    "missed = []\n",
    "\n",
    "for fname in readme_files:\n",
    "    if get_yaml(fname)!= '':\n",
    "        try:\n",
    "            readme_tags += [\n",
    "                (\n",
    "                    fname.split('/')[-2],\n",
    "                    split_configs(yaml.load(get_yaml(fname)),fname.split('/')[-2])\n",
    "                )\n",
    "            ]\n",
    "        except:\n",
    "            print(fname)\n",
    "            missed += [fname]"
   ]
  },
  {
   "cell_type": "code",
   "execution_count": 3,
   "metadata": {},
   "outputs": [],
   "source": [
    "for name, conf_dict in readme_tags:\n",
    "    saved_path = os.path.join('saved_tags', name)\n",
    "    if not os.path.isdir(saved_path):\n",
    "        os.mkdir(saved_path)\n",
    "    for conf, tag_dict in conf_dict.items():\n",
    "        conf_path = os.path.join(saved_path, conf)\n",
    "        if not os.path.isdir(conf_path):\n",
    "            os.mkdir(conf_path)\n",
    "        json.dump(tag_dict, open(os.path.join(conf_path, 'tags.json'), 'w'))"
   ]
  },
  {
   "cell_type": "code",
   "execution_count": 41,
   "metadata": {},
   "outputs": [
    {
     "data": {
      "text/plain": [
       "('acronym_identification',\n",
       " {'all_conf_tags': {'annotations_creators': ['expert-generated'],\n",
       "   'language_creators': ['found'],\n",
       "   'languages': ['en'],\n",
       "   'licenses': ['mit'],\n",
       "   'multilinguality': ['monolingual'],\n",
       "   'size_categories': ['10K<n<100K'],\n",
       "   'source_datasets': ['original'],\n",
       "   'task_categories': ['structure-prediction'],\n",
       "   'task_ids': ['structure-prediction-other-acronym-identification']}})"
      ]
     },
     "execution_count": 41,
     "metadata": {},
     "output_type": "execute_result"
    }
   ],
   "source": [
    "readme_tags[0]"
   ]
  }
 ],
 "metadata": {
  "kernelspec": {
   "display_name": "Python 3",
   "language": "python",
   "name": "python3"
  },
  "language_info": {
   "codemirror_mode": {
    "name": "ipython",
    "version": 3
   },
   "file_extension": ".py",
   "mimetype": "text/x-python",
   "name": "python",
   "nbconvert_exporter": "python",
   "pygments_lexer": "ipython3",
   "version": "3.8.3"
  }
 },
 "nbformat": 4,
 "nbformat_minor": 4
}
